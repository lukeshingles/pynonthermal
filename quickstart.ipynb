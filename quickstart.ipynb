{
 "cells": [
  {
   "cell_type": "code",
   "execution_count": 1,
   "id": "fad5cc44",
   "metadata": {},
   "outputs": [],
   "source": [
    "import pynonthermal"
   ]
  },
  {
   "cell_type": "code",
   "execution_count": 2,
   "id": "8362d323",
   "metadata": {},
   "outputs": [
    {
     "name": "stdout",
     "output_type": "stream",
     "text": [
      "\n",
      "Setting up Spencer-Fano equation with 2000 energy points from 1.0 to 3000.0 eV...\n",
      "  source is a box function from 2701.45 to 3000.00 eV with E_init 2850.73 [eV/s/cm3]\n",
      "  including Z=8 ion_stage 1 (O I) ionisation with n_ion 9.9e-01\n",
      "Reading artis_files/transitiondata.txt\n",
      "Reading artis_files/adata.txt\n",
      "  including Z=8 ion_stage 1 (O I) excitation with T 6000 K (ntransitions 248, maxnlevelslower 5, maxnlevelsupper 250)\n",
      "  including Z=8 ion_stage 2 (O II) ionisation with n_ion 1.0e-02\n",
      "  including Z=8 ion_stage 2 (O II) excitation with T 6000 K (ntransitions 307, maxnlevelslower 5, maxnlevelsupper 250)\n",
      " n_ion_tot: 1.00e+00 [/cm3]        (total ion density)\n",
      "       n_e: 1.00e-02 [/cm3]        (free electron density)\n",
      "       x_e: 1.00e-02 [/cm3]        (electons per nucleus)\n",
      "deposition: 5000.00  [eV/s/cm3]\n",
      "    n_e_nt: 4.06e+09 [/cm3]\n",
      "\n",
      "====> Z= 8 ion_stage 1 O I (valence potential 13.6 eV)\n",
      "               n_ion: 9.90e-01 [/cm3]\n",
      "     n_ion/n_ion_tot: 0.99000\n",
      "frac_ionisation_shell(n 2 l 1): 0.3604 (ionpot 13.60 eV)\n",
      "frac_ionisation_shell(n 2 l 0): 0.1562 (ionpot 28.50 eV)\n",
      "     frac_ionisation: 0.5167\n",
      "     frac_excitation: 0.0789\n",
      "          eff_ionpot: 30.95 [eV]\n",
      "ionisation ratecoeff: 1.62e+02 [/s]\n",
      "\n",
      "====> Z= 8 ion_stage 2 O II (valence potential 35.1 eV)\n",
      "               n_ion: 1.00e-02 [/cm3]\n",
      "     n_ion/n_ion_tot: 0.01000\n",
      "frac_ionisation_shell(n 2 l 1): 0.0028 (ionpot 35.10 eV)\n",
      "frac_ionisation_shell(n 2 l 0): 0.0013 (ionpot 42.60 eV)\n",
      "     frac_ionisation: 0.0041\n",
      "     frac_excitation: 0.0036\n",
      "          eff_ionpot: 90.18 [eV]\n",
      "ionisation ratecoeff: 5.54e+01 [/s]\n",
      "\n",
      "  frac_excitation_tot: 0.0825\n",
      "  frac_ionisation_tot: 0.5208\n",
      " frac_heating(E<EMIN): 0.00182\n",
      "         frac_heating: 0.3956\n",
      "             frac_sum: 0.9990\n"
     ]
    }
   ],
   "source": [
    "# Kozma & Fransson 1992 Figure 2 - Pure-Oxygen Plasma\n",
    "x_e = 1e-2\n",
    "ions = [\n",
    "    # (Z, ionstage, number_density)\n",
    "    (8, 1, 1. - x_e),\n",
    "    (8, 2, x_e),\n",
    "]\n",
    "\n",
    "sf = pynonthermal.SpencerFanoSolver(emin_ev=1, emax_ev=3000, npts=2000, verbose=True)\n",
    "for Z, ionstage, n_ion in ions:\n",
    "    sf.add_ionisation(Z, ionstage, n_ion)\n",
    "    sf.add_ion_ltepopexcitation(Z, ionstage, n_ion, temperature=6000)\n",
    "\n",
    "sf.solve(depositionratedensity_ev=5.e3)\n",
    "\n",
    "sf.analyse_ntspectrum()"
   ]
  },
  {
   "cell_type": "code",
   "execution_count": 3,
   "id": "1db57646",
   "metadata": {},
   "outputs": [
    {
     "data": {
      "text/plain": [
       "0.395633032972517"
      ]
     },
     "execution_count": 3,
     "metadata": {},
     "output_type": "execute_result"
    }
   ],
   "source": [
    "sf.get_frac_heating()"
   ]
  },
  {
   "cell_type": "code",
   "execution_count": 4,
   "id": "85b49911",
   "metadata": {},
   "outputs": [
    {
     "data": {
      "text/plain": [
       "0.998967592013154"
      ]
     },
     "execution_count": 4,
     "metadata": {},
     "output_type": "execute_result"
    }
   ],
   "source": [
    "sf.get_frac_sum()"
   ]
  },
  {
   "cell_type": "code",
   "execution_count": 5,
   "id": "33285b78",
   "metadata": {},
   "outputs": [
    {
     "data": {
      "text/plain": [
       "161.53701039565223"
      ]
     },
     "execution_count": 5,
     "metadata": {},
     "output_type": "execute_result"
    }
   ],
   "source": [
    "sf.get_ionisation_ratecoeff(8, 1)  # this can be multiplied by O I population to get ionisations per second"
   ]
  },
  {
   "cell_type": "code",
   "execution_count": 6,
   "id": "255279cc",
   "metadata": {},
   "outputs": [
    {
     "data": {
      "image/png": "[encoded data removed]",
      "text/plain": [
       "<Figure size 360x288 with 1 Axes>"
      ]
     },
     "metadata": {
      "needs_background": "light"
     },
     "output_type": "display_data"
    }
   ],
   "source": [
    "sf.plot_yspectrum()"
   ]
  },
  {
   "cell_type": "code",
   "execution_count": null,
   "id": "45c94e58",
   "metadata": {},
   "outputs": [],
   "source": [
    "sf.plot_channels()"
   ]
  },
  {
   "cell_type": "code",
   "execution_count": null,
   "id": "a7a97763",
   "metadata": {},
   "outputs": [],
   "source": []
  }
 ],
 "metadata": {
  "kernelspec": {
   "display_name": "Python 3",
   "language": "python",
   "name": "python3"
  },
  "language_info": {
   "codemirror_mode": {
    "name": "ipython",
    "version": 3
   },
   "file_extension": ".py",
   "mimetype": "text/x-python",
   "name": "python",
   "nbconvert_exporter": "python",
   "pygments_lexer": "ipython3",
   "version": "3.9.4"
  }
 },
 "nbformat": 4,
 "nbformat_minor": 5
}
